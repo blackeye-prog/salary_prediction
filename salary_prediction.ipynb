{
 "cells": [
  {
   "cell_type": "markdown",
   "metadata": {},
   "source": [
    "## Salary Prediction System"
   ]
  },
  {
   "cell_type": "markdown",
   "metadata": {},
   "source": [
    "## About dataset"
   ]
  },
  {
   "cell_type": "markdown",
   "metadata": {},
   "source": [
    "This dataset contains information about the salaries of employees at a company. Each row represents a different employee, and the columns include information such as age, gender, education level, job title, years of experience, and salary.\n",
    "\n",
    "Columns:\n",
    "\n",
    "Age: This column represents the age of each employee in years. The values in this column are numeric.\n",
    "\n",
    "Gender: This column contains the gender of each employee, which can be either male or female. The values in this column are categorical.\n",
    "\n",
    "Education Level: This column contains the educational level of each employee, which can be high school, bachelor's degree, master's degree, or PhD. The values in this column are categorical.\n",
    "\n",
    "Job Title: This column contains the job title of each employee. The job titles can vary depending on the company and may include positions such as manager, analyst, engineer, or administrator. The values in this column are categorical.\n",
    "\n",
    "Years of Experience: This column represents the number of years of work experience of each employee. The values in this column are numeric.\n",
    "\n",
    "Salary: This column represents the annual salary of each employee in US dollars. The values in this column are numeric and can vary depending on factors such as job title, years of experience, and education level.\n",
    "\n",
    "** The purpose of creating this dataset is solely for educational use, and any commercial use is strictly prohibited\n",
    "and this dataset was large language models generated and not collected from actual data sources."
   ]
  },
  {
   "cell_type": "markdown",
   "metadata": {},
   "source": [
    "## Importing Libraries"
   ]
  },
  {
   "cell_type": "code",
   "execution_count": 2,
   "metadata": {},
   "outputs": [],
   "source": [
    "import numpy as np\n",
    "import pandas as pd\n",
    "import matplotlib.pyplot as plt\n",
    "import seaborn as sns\n",
    "import warnings\n",
    "warnings.filterwarnings(\"ignore\")"
   ]
  },
  {
   "cell_type": "markdown",
   "metadata": {},
   "source": [
    "## Importing Dataset"
   ]
  },
  {
   "cell_type": "code",
   "execution_count": 3,
   "metadata": {},
   "outputs": [],
   "source": [
    "df = pd.read_csv(\"artifacts/salary_data.csv\")\n"
   ]
  },
  {
   "cell_type": "markdown",
   "metadata": {},
   "source": [
    "## Reading Top Five data"
   ]
  },
  {
   "cell_type": "code",
   "execution_count": 4,
   "metadata": {},
   "outputs": [
    {
     "data": {
      "text/html": [
       "<div>\n",
       "<style scoped>\n",
       "    .dataframe tbody tr th:only-of-type {\n",
       "        vertical-align: middle;\n",
       "    }\n",
       "\n",
       "    .dataframe tbody tr th {\n",
       "        vertical-align: top;\n",
       "    }\n",
       "\n",
       "    .dataframe thead th {\n",
       "        text-align: right;\n",
       "    }\n",
       "</style>\n",
       "<table border=\"1\" class=\"dataframe\">\n",
       "  <thead>\n",
       "    <tr style=\"text-align: right;\">\n",
       "      <th></th>\n",
       "      <th>Age</th>\n",
       "      <th>Gender</th>\n",
       "      <th>Education Level</th>\n",
       "      <th>Job Title</th>\n",
       "      <th>Years of Experience</th>\n",
       "      <th>Salary</th>\n",
       "    </tr>\n",
       "  </thead>\n",
       "  <tbody>\n",
       "    <tr>\n",
       "      <th>0</th>\n",
       "      <td>32.0</td>\n",
       "      <td>Male</td>\n",
       "      <td>Bachelor's</td>\n",
       "      <td>Software Engineer</td>\n",
       "      <td>5.0</td>\n",
       "      <td>90000.0</td>\n",
       "    </tr>\n",
       "    <tr>\n",
       "      <th>1</th>\n",
       "      <td>28.0</td>\n",
       "      <td>Female</td>\n",
       "      <td>Master's</td>\n",
       "      <td>Data Analyst</td>\n",
       "      <td>3.0</td>\n",
       "      <td>65000.0</td>\n",
       "    </tr>\n",
       "    <tr>\n",
       "      <th>2</th>\n",
       "      <td>45.0</td>\n",
       "      <td>Male</td>\n",
       "      <td>PhD</td>\n",
       "      <td>Senior Manager</td>\n",
       "      <td>15.0</td>\n",
       "      <td>150000.0</td>\n",
       "    </tr>\n",
       "    <tr>\n",
       "      <th>3</th>\n",
       "      <td>36.0</td>\n",
       "      <td>Female</td>\n",
       "      <td>Bachelor's</td>\n",
       "      <td>Sales Associate</td>\n",
       "      <td>7.0</td>\n",
       "      <td>60000.0</td>\n",
       "    </tr>\n",
       "    <tr>\n",
       "      <th>4</th>\n",
       "      <td>52.0</td>\n",
       "      <td>Male</td>\n",
       "      <td>Master's</td>\n",
       "      <td>Director</td>\n",
       "      <td>20.0</td>\n",
       "      <td>200000.0</td>\n",
       "    </tr>\n",
       "  </tbody>\n",
       "</table>\n",
       "</div>"
      ],
      "text/plain": [
       "    Age  Gender Education Level          Job Title  Years of Experience  \\\n",
       "0  32.0    Male      Bachelor's  Software Engineer                  5.0   \n",
       "1  28.0  Female        Master's       Data Analyst                  3.0   \n",
       "2  45.0    Male             PhD     Senior Manager                 15.0   \n",
       "3  36.0  Female      Bachelor's    Sales Associate                  7.0   \n",
       "4  52.0    Male        Master's           Director                 20.0   \n",
       "\n",
       "     Salary  \n",
       "0   90000.0  \n",
       "1   65000.0  \n",
       "2  150000.0  \n",
       "3   60000.0  \n",
       "4  200000.0  "
      ]
     },
     "execution_count": 4,
     "metadata": {},
     "output_type": "execute_result"
    }
   ],
   "source": [
    "df.head(5)"
   ]
  },
  {
   "cell_type": "markdown",
   "metadata": {},
   "source": [
    "## Performing Exploratory Data Analysis (EDA):"
   ]
  },
  {
   "cell_type": "code",
   "execution_count": 5,
   "metadata": {},
   "outputs": [
    {
     "data": {
      "text/plain": [
       "(375, 6)"
      ]
     },
     "execution_count": 5,
     "metadata": {},
     "output_type": "execute_result"
    }
   ],
   "source": [
    "df.shape"
   ]
  },
  {
   "cell_type": "markdown",
   "metadata": {},
   "source": [
    "Insight : Dataset contains 375 rows and 6 features including output feature"
   ]
  },
  {
   "cell_type": "markdown",
   "metadata": {},
   "source": [
    "## Checking Basic Statstical description of Dataset"
   ]
  },
  {
   "cell_type": "code",
   "execution_count": 6,
   "metadata": {},
   "outputs": [
    {
     "data": {
      "text/html": [
       "<div>\n",
       "<style scoped>\n",
       "    .dataframe tbody tr th:only-of-type {\n",
       "        vertical-align: middle;\n",
       "    }\n",
       "\n",
       "    .dataframe tbody tr th {\n",
       "        vertical-align: top;\n",
       "    }\n",
       "\n",
       "    .dataframe thead th {\n",
       "        text-align: right;\n",
       "    }\n",
       "</style>\n",
       "<table border=\"1\" class=\"dataframe\">\n",
       "  <thead>\n",
       "    <tr style=\"text-align: right;\">\n",
       "      <th></th>\n",
       "      <th>Age</th>\n",
       "      <th>Years of Experience</th>\n",
       "      <th>Salary</th>\n",
       "    </tr>\n",
       "  </thead>\n",
       "  <tbody>\n",
       "    <tr>\n",
       "      <th>count</th>\n",
       "      <td>373.000000</td>\n",
       "      <td>373.000000</td>\n",
       "      <td>373.000000</td>\n",
       "    </tr>\n",
       "    <tr>\n",
       "      <th>mean</th>\n",
       "      <td>37.431635</td>\n",
       "      <td>10.030831</td>\n",
       "      <td>100577.345845</td>\n",
       "    </tr>\n",
       "    <tr>\n",
       "      <th>std</th>\n",
       "      <td>7.069073</td>\n",
       "      <td>6.557007</td>\n",
       "      <td>48240.013482</td>\n",
       "    </tr>\n",
       "    <tr>\n",
       "      <th>min</th>\n",
       "      <td>23.000000</td>\n",
       "      <td>0.000000</td>\n",
       "      <td>350.000000</td>\n",
       "    </tr>\n",
       "    <tr>\n",
       "      <th>25%</th>\n",
       "      <td>31.000000</td>\n",
       "      <td>4.000000</td>\n",
       "      <td>55000.000000</td>\n",
       "    </tr>\n",
       "    <tr>\n",
       "      <th>50%</th>\n",
       "      <td>36.000000</td>\n",
       "      <td>9.000000</td>\n",
       "      <td>95000.000000</td>\n",
       "    </tr>\n",
       "    <tr>\n",
       "      <th>75%</th>\n",
       "      <td>44.000000</td>\n",
       "      <td>15.000000</td>\n",
       "      <td>140000.000000</td>\n",
       "    </tr>\n",
       "    <tr>\n",
       "      <th>max</th>\n",
       "      <td>53.000000</td>\n",
       "      <td>25.000000</td>\n",
       "      <td>250000.000000</td>\n",
       "    </tr>\n",
       "  </tbody>\n",
       "</table>\n",
       "</div>"
      ],
      "text/plain": [
       "              Age  Years of Experience         Salary\n",
       "count  373.000000           373.000000     373.000000\n",
       "mean    37.431635            10.030831  100577.345845\n",
       "std      7.069073             6.557007   48240.013482\n",
       "min     23.000000             0.000000     350.000000\n",
       "25%     31.000000             4.000000   55000.000000\n",
       "50%     36.000000             9.000000   95000.000000\n",
       "75%     44.000000            15.000000  140000.000000\n",
       "max     53.000000            25.000000  250000.000000"
      ]
     },
     "execution_count": 6,
     "metadata": {},
     "output_type": "execute_result"
    }
   ],
   "source": [
    "df.describe()"
   ]
  },
  {
   "cell_type": "code",
   "execution_count": 7,
   "metadata": {},
   "outputs": [
    {
     "name": "stdout",
     "output_type": "stream",
     "text": [
      "<class 'pandas.core.frame.DataFrame'>\n",
      "RangeIndex: 375 entries, 0 to 374\n",
      "Data columns (total 6 columns):\n",
      " #   Column               Non-Null Count  Dtype  \n",
      "---  ------               --------------  -----  \n",
      " 0   Age                  373 non-null    float64\n",
      " 1   Gender               373 non-null    object \n",
      " 2   Education Level      373 non-null    object \n",
      " 3   Job Title            373 non-null    object \n",
      " 4   Years of Experience  373 non-null    float64\n",
      " 5   Salary               373 non-null    float64\n",
      "dtypes: float64(3), object(3)\n",
      "memory usage: 17.7+ KB\n"
     ]
    }
   ],
   "source": [
    "df.info()"
   ]
  },
  {
   "cell_type": "markdown",
   "metadata": {},
   "source": [
    "## Features of dataset"
   ]
  },
  {
   "cell_type": "code",
   "execution_count": 8,
   "metadata": {},
   "outputs": [
    {
     "data": {
      "text/plain": [
       "Index(['Age', 'Gender', 'Education Level', 'Job Title', 'Years of Experience',\n",
       "       'Salary'],\n",
       "      dtype='object')"
      ]
     },
     "execution_count": 8,
     "metadata": {},
     "output_type": "execute_result"
    }
   ],
   "source": [
    "df.columns"
   ]
  },
  {
   "cell_type": "markdown",
   "metadata": {},
   "source": [
    "## Features datatype"
   ]
  },
  {
   "cell_type": "code",
   "execution_count": 9,
   "metadata": {},
   "outputs": [
    {
     "data": {
      "text/plain": [
       "Age                    float64\n",
       "Gender                  object\n",
       "Education Level         object\n",
       "Job Title               object\n",
       "Years of Experience    float64\n",
       "Salary                 float64\n",
       "dtype: object"
      ]
     },
     "execution_count": 9,
     "metadata": {},
     "output_type": "execute_result"
    }
   ],
   "source": [
    "df.dtypes"
   ]
  },
  {
   "cell_type": "markdown",
   "metadata": {},
   "source": [
    "## Checking Missing Value in DataSet"
   ]
  },
  {
   "cell_type": "code",
   "execution_count": 10,
   "metadata": {},
   "outputs": [
    {
     "data": {
      "text/plain": [
       "Age                    2\n",
       "Gender                 2\n",
       "Education Level        2\n",
       "Job Title              2\n",
       "Years of Experience    2\n",
       "Salary                 2\n",
       "dtype: int64"
      ]
     },
     "execution_count": 10,
     "metadata": {},
     "output_type": "execute_result"
    }
   ],
   "source": [
    "df.isnull().sum()"
   ]
  },
  {
   "cell_type": "markdown",
   "metadata": {},
   "source": [
    "Dataset contains missing value"
   ]
  },
  {
   "cell_type": "markdown",
   "metadata": {},
   "source": [
    "## Visualizing Missing Value"
   ]
  },
  {
   "cell_type": "code",
   "execution_count": 11,
   "metadata": {},
   "outputs": [
    {
     "data": {
      "text/plain": [
       "<Axes: >"
      ]
     },
     "execution_count": 11,
     "metadata": {},
     "output_type": "execute_result"
    },
    {
     "data": {
      "image/png": "[encoded data removed]",
      "text/plain": [
       "<Figure size 640x480 with 2 Axes>"
      ]
     },
     "metadata": {},
     "output_type": "display_data"
    }
   ],
   "source": [
    "sns.heatmap(df.isnull())"
   ]
  },
  {
   "cell_type": "markdown",
   "metadata": {},
   "source": [
    "## Drop Missing Value"
   ]
  },
  {
   "cell_type": "code",
   "execution_count": 12,
   "metadata": {},
   "outputs": [
    {
     "data": {
      "text/plain": [
       "Age                    0\n",
       "Gender                 0\n",
       "Education Level        0\n",
       "Job Title              0\n",
       "Years of Experience    0\n",
       "Salary                 0\n",
       "dtype: int64"
      ]
     },
     "execution_count": 12,
     "metadata": {},
     "output_type": "execute_result"
    }
   ],
   "source": [
    "df1 = df.dropna()\n",
    "df=df1\n",
    "df.isnull().sum()\n"
   ]
  },
  {
   "cell_type": "markdown",
   "metadata": {},
   "source": [
    "## Checking Outliers using Boxplot"
   ]
  },
  {
   "cell_type": "code",
   "execution_count": 13,
   "metadata": {},
   "outputs": [
    {
     "data": {
      "text/plain": [
       "<Axes: ylabel='Age'>"
      ]
     },
     "execution_count": 13,
     "metadata": {},
     "output_type": "execute_result"
    },
    {
     "data": {
      "image/png": "[encoded data removed]",
      "text/plain": [
       "<Figure size 640x480 with 1 Axes>"
      ]
     },
     "metadata": {},
     "output_type": "display_data"
    }
   ],
   "source": [
    "sns.boxplot(data = df['Age'])"
   ]
  },
  {
   "cell_type": "code",
   "execution_count": 14,
   "metadata": {},
   "outputs": [
    {
     "data": {
      "text/plain": [
       "<Axes: ylabel='Salary'>"
      ]
     },
     "execution_count": 14,
     "metadata": {},
     "output_type": "execute_result"
    },
    {
     "data": {
      "image/png": "[encoded data removed]",
      "text/plain": [
       "<Figure size 640x480 with 1 Axes>"
      ]
     },
     "metadata": {},
     "output_type": "display_data"
    }
   ],
   "source": [
    "sns.boxplot(data = df['Salary'])"
   ]
  },
  {
   "cell_type": "markdown",
   "metadata": {},
   "source": [
    "## No. of Unique values in Dataset"
   ]
  },
  {
   "cell_type": "code",
   "execution_count": 15,
   "metadata": {},
   "outputs": [
    {
     "data": {
      "text/plain": [
       "array([\"Bachelor's\", \"Master's\", 'PhD'], dtype=object)"
      ]
     },
     "execution_count": 15,
     "metadata": {},
     "output_type": "execute_result"
    }
   ],
   "source": [
    "df['Education Level'].unique()\n"
   ]
  },
  {
   "cell_type": "code",
   "execution_count": 16,
   "metadata": {},
   "outputs": [
    {
     "data": {
      "text/plain": [
       "array(['Male', 'Female'], dtype=object)"
      ]
     },
     "execution_count": 16,
     "metadata": {},
     "output_type": "execute_result"
    }
   ],
   "source": [
    "df['Gender'].unique()"
   ]
  },
  {
   "cell_type": "code",
   "execution_count": 17,
   "metadata": {},
   "outputs": [
    {
     "data": {
      "text/plain": [
       "array(['Software Engineer', 'Data Analyst', 'Senior Manager',\n",
       "       'Sales Associate', 'Director', 'Marketing Analyst',\n",
       "       'Product Manager', 'Sales Manager', 'Marketing Coordinator',\n",
       "       'Senior Scientist', 'Software Developer', 'HR Manager',\n",
       "       'Financial Analyst', 'Project Manager', 'Customer Service Rep',\n",
       "       'Operations Manager', 'Marketing Manager', 'Senior Engineer',\n",
       "       'Data Entry Clerk', 'Sales Director', 'Business Analyst',\n",
       "       'VP of Operations', 'IT Support', 'Recruiter', 'Financial Manager',\n",
       "       'Social Media Specialist', 'Software Manager', 'Junior Developer',\n",
       "       'Senior Consultant', 'Product Designer', 'CEO', 'Accountant',\n",
       "       'Data Scientist', 'Marketing Specialist', 'Technical Writer',\n",
       "       'HR Generalist', 'Project Engineer', 'Customer Success Rep',\n",
       "       'Sales Executive', 'UX Designer', 'Operations Director',\n",
       "       'Network Engineer', 'Administrative Assistant',\n",
       "       'Strategy Consultant', 'Copywriter', 'Account Manager',\n",
       "       'Director of Marketing', 'Help Desk Analyst',\n",
       "       'Customer Service Manager', 'Business Intelligence Analyst',\n",
       "       'Event Coordinator', 'VP of Finance', 'Graphic Designer',\n",
       "       'UX Researcher', 'Social Media Manager', 'Director of Operations',\n",
       "       'Senior Data Scientist', 'Junior Accountant',\n",
       "       'Digital Marketing Manager', 'IT Manager',\n",
       "       'Customer Service Representative', 'Business Development Manager',\n",
       "       'Senior Financial Analyst', 'Web Developer', 'Research Director',\n",
       "       'Technical Support Specialist', 'Creative Director',\n",
       "       'Senior Software Engineer', 'Human Resources Director',\n",
       "       'Content Marketing Manager', 'Technical Recruiter',\n",
       "       'Sales Representative', 'Chief Technology Officer',\n",
       "       'Junior Designer', 'Financial Advisor', 'Junior Account Manager',\n",
       "       'Senior Project Manager', 'Principal Scientist',\n",
       "       'Supply Chain Manager', 'Senior Marketing Manager',\n",
       "       'Training Specialist', 'Research Scientist',\n",
       "       'Junior Software Developer', 'Public Relations Manager',\n",
       "       'Operations Analyst', 'Product Marketing Manager',\n",
       "       'Senior HR Manager', 'Junior Web Developer',\n",
       "       'Senior Project Coordinator', 'Chief Data Officer',\n",
       "       'Digital Content Producer', 'IT Support Specialist',\n",
       "       'Senior Marketing Analyst', 'Customer Success Manager',\n",
       "       'Senior Graphic Designer', 'Software Project Manager',\n",
       "       'Supply Chain Analyst', 'Senior Business Analyst',\n",
       "       'Junior Marketing Analyst', 'Office Manager', 'Principal Engineer',\n",
       "       'Junior HR Generalist', 'Senior Product Manager',\n",
       "       'Junior Operations Analyst', 'Senior HR Generalist',\n",
       "       'Sales Operations Manager', 'Senior Software Developer',\n",
       "       'Junior Web Designer', 'Senior Training Specialist',\n",
       "       'Senior Research Scientist', 'Junior Sales Representative',\n",
       "       'Junior Marketing Manager', 'Junior Data Analyst',\n",
       "       'Senior Product Marketing Manager', 'Junior Business Analyst',\n",
       "       'Senior Sales Manager', 'Junior Marketing Specialist',\n",
       "       'Junior Project Manager', 'Senior Accountant', 'Director of Sales',\n",
       "       'Junior Recruiter', 'Senior Business Development Manager',\n",
       "       'Senior Product Designer', 'Junior Customer Support Specialist',\n",
       "       'Senior IT Support Specialist', 'Junior Financial Analyst',\n",
       "       'Senior Operations Manager', 'Director of Human Resources',\n",
       "       'Junior Software Engineer', 'Senior Sales Representative',\n",
       "       'Director of Product Management', 'Junior Copywriter',\n",
       "       'Senior Marketing Coordinator', 'Senior Human Resources Manager',\n",
       "       'Junior Business Development Associate', 'Senior Account Manager',\n",
       "       'Senior Researcher', 'Junior HR Coordinator',\n",
       "       'Director of Finance', 'Junior Marketing Coordinator',\n",
       "       'Junior Data Scientist', 'Senior Operations Analyst',\n",
       "       'Senior Human Resources Coordinator', 'Senior UX Designer',\n",
       "       'Junior Product Manager', 'Senior Marketing Specialist',\n",
       "       'Senior IT Project Manager', 'Senior Quality Assurance Analyst',\n",
       "       'Director of Sales and Marketing', 'Senior Account Executive',\n",
       "       'Director of Business Development', 'Junior Social Media Manager',\n",
       "       'Senior Human Resources Specialist', 'Senior Data Analyst',\n",
       "       'Director of Human Capital', 'Junior Advertising Coordinator',\n",
       "       'Junior UX Designer', 'Senior Marketing Director',\n",
       "       'Senior IT Consultant', 'Senior Financial Advisor',\n",
       "       'Junior Business Operations Analyst',\n",
       "       'Junior Social Media Specialist',\n",
       "       'Senior Product Development Manager', 'Junior Operations Manager',\n",
       "       'Senior Software Architect', 'Junior Research Scientist',\n",
       "       'Senior Financial Manager', 'Senior HR Specialist',\n",
       "       'Senior Data Engineer', 'Junior Operations Coordinator',\n",
       "       'Director of HR', 'Senior Operations Coordinator',\n",
       "       'Junior Financial Advisor', 'Director of Engineering'],\n",
       "      dtype=object)"
      ]
     },
     "execution_count": 17,
     "metadata": {},
     "output_type": "execute_result"
    }
   ],
   "source": [
    "df['Job Title'].unique()"
   ]
  },
  {
   "cell_type": "markdown",
   "metadata": {},
   "source": [
    "## Feature Selection"
   ]
  },
  {
   "cell_type": "code",
   "execution_count": 18,
   "metadata": {},
   "outputs": [
    {
     "data": {
      "text/html": [
       "<div>\n",
       "<style scoped>\n",
       "    .dataframe tbody tr th:only-of-type {\n",
       "        vertical-align: middle;\n",
       "    }\n",
       "\n",
       "    .dataframe tbody tr th {\n",
       "        vertical-align: top;\n",
       "    }\n",
       "\n",
       "    .dataframe thead th {\n",
       "        text-align: right;\n",
       "    }\n",
       "</style>\n",
       "<table border=\"1\" class=\"dataframe\">\n",
       "  <thead>\n",
       "    <tr style=\"text-align: right;\">\n",
       "      <th></th>\n",
       "      <th>Education Level</th>\n",
       "      <th>Years of Experience</th>\n",
       "      <th>Salary</th>\n",
       "    </tr>\n",
       "  </thead>\n",
       "  <tbody>\n",
       "    <tr>\n",
       "      <th>0</th>\n",
       "      <td>Bachelor's</td>\n",
       "      <td>5.0</td>\n",
       "      <td>90000.0</td>\n",
       "    </tr>\n",
       "    <tr>\n",
       "      <th>1</th>\n",
       "      <td>Master's</td>\n",
       "      <td>3.0</td>\n",
       "      <td>65000.0</td>\n",
       "    </tr>\n",
       "    <tr>\n",
       "      <th>2</th>\n",
       "      <td>PhD</td>\n",
       "      <td>15.0</td>\n",
       "      <td>150000.0</td>\n",
       "    </tr>\n",
       "    <tr>\n",
       "      <th>3</th>\n",
       "      <td>Bachelor's</td>\n",
       "      <td>7.0</td>\n",
       "      <td>60000.0</td>\n",
       "    </tr>\n",
       "    <tr>\n",
       "      <th>4</th>\n",
       "      <td>Master's</td>\n",
       "      <td>20.0</td>\n",
       "      <td>200000.0</td>\n",
       "    </tr>\n",
       "    <tr>\n",
       "      <th>5</th>\n",
       "      <td>Bachelor's</td>\n",
       "      <td>2.0</td>\n",
       "      <td>55000.0</td>\n",
       "    </tr>\n",
       "    <tr>\n",
       "      <th>6</th>\n",
       "      <td>Master's</td>\n",
       "      <td>12.0</td>\n",
       "      <td>120000.0</td>\n",
       "    </tr>\n",
       "    <tr>\n",
       "      <th>7</th>\n",
       "      <td>Bachelor's</td>\n",
       "      <td>4.0</td>\n",
       "      <td>80000.0</td>\n",
       "    </tr>\n",
       "    <tr>\n",
       "      <th>8</th>\n",
       "      <td>Bachelor's</td>\n",
       "      <td>1.0</td>\n",
       "      <td>45000.0</td>\n",
       "    </tr>\n",
       "    <tr>\n",
       "      <th>9</th>\n",
       "      <td>PhD</td>\n",
       "      <td>10.0</td>\n",
       "      <td>110000.0</td>\n",
       "    </tr>\n",
       "  </tbody>\n",
       "</table>\n",
       "</div>"
      ],
      "text/plain": [
       "  Education Level  Years of Experience    Salary\n",
       "0      Bachelor's                  5.0   90000.0\n",
       "1        Master's                  3.0   65000.0\n",
       "2             PhD                 15.0  150000.0\n",
       "3      Bachelor's                  7.0   60000.0\n",
       "4        Master's                 20.0  200000.0\n",
       "5      Bachelor's                  2.0   55000.0\n",
       "6        Master's                 12.0  120000.0\n",
       "7      Bachelor's                  4.0   80000.0\n",
       "8      Bachelor's                  1.0   45000.0\n",
       "9             PhD                 10.0  110000.0"
      ]
     },
     "execution_count": 18,
     "metadata": {},
     "output_type": "execute_result"
    }
   ],
   "source": [
    "df1= df.drop( ['Age', 'Gender','Job Title'], axis=1)\n",
    "df=df1\n",
    "df.head(10)"
   ]
  },
  {
   "cell_type": "markdown",
   "metadata": {},
   "source": [
    "## Data Encoding"
   ]
  },
  {
   "cell_type": "code",
   "execution_count": 19,
   "metadata": {},
   "outputs": [
    {
     "data": {
      "text/html": [
       "<div>\n",
       "<style scoped>\n",
       "    .dataframe tbody tr th:only-of-type {\n",
       "        vertical-align: middle;\n",
       "    }\n",
       "\n",
       "    .dataframe tbody tr th {\n",
       "        vertical-align: top;\n",
       "    }\n",
       "\n",
       "    .dataframe thead th {\n",
       "        text-align: right;\n",
       "    }\n",
       "</style>\n",
       "<table border=\"1\" class=\"dataframe\">\n",
       "  <thead>\n",
       "    <tr style=\"text-align: right;\">\n",
       "      <th></th>\n",
       "      <th>Education Level</th>\n",
       "      <th>Years of Experience</th>\n",
       "      <th>Salary</th>\n",
       "    </tr>\n",
       "  </thead>\n",
       "  <tbody>\n",
       "    <tr>\n",
       "      <th>0</th>\n",
       "      <td>0</td>\n",
       "      <td>5.0</td>\n",
       "      <td>90000.0</td>\n",
       "    </tr>\n",
       "    <tr>\n",
       "      <th>1</th>\n",
       "      <td>1</td>\n",
       "      <td>3.0</td>\n",
       "      <td>65000.0</td>\n",
       "    </tr>\n",
       "    <tr>\n",
       "      <th>2</th>\n",
       "      <td>2</td>\n",
       "      <td>15.0</td>\n",
       "      <td>150000.0</td>\n",
       "    </tr>\n",
       "    <tr>\n",
       "      <th>3</th>\n",
       "      <td>0</td>\n",
       "      <td>7.0</td>\n",
       "      <td>60000.0</td>\n",
       "    </tr>\n",
       "    <tr>\n",
       "      <th>4</th>\n",
       "      <td>1</td>\n",
       "      <td>20.0</td>\n",
       "      <td>200000.0</td>\n",
       "    </tr>\n",
       "  </tbody>\n",
       "</table>\n",
       "</div>"
      ],
      "text/plain": [
       "   Education Level  Years of Experience    Salary\n",
       "0                0                  5.0   90000.0\n",
       "1                1                  3.0   65000.0\n",
       "2                2                 15.0  150000.0\n",
       "3                0                  7.0   60000.0\n",
       "4                1                 20.0  200000.0"
      ]
     },
     "execution_count": 19,
     "metadata": {},
     "output_type": "execute_result"
    }
   ],
   "source": [
    "from sklearn.preprocessing import LabelEncoder\n",
    "label_encoder = LabelEncoder()\n",
    "df['Education Level'] = label_encoder.fit_transform(df['Education Level'])\n",
    "df.head()"
   ]
  },
  {
   "cell_type": "markdown",
   "metadata": {},
   "source": [
    "## Input and Output feature Splitting"
   ]
  },
  {
   "cell_type": "code",
   "execution_count": 43,
   "metadata": {},
   "outputs": [
    {
     "data": {
      "text/html": [
       "<div>\n",
       "<style scoped>\n",
       "    .dataframe tbody tr th:only-of-type {\n",
       "        vertical-align: middle;\n",
       "    }\n",
       "\n",
       "    .dataframe tbody tr th {\n",
       "        vertical-align: top;\n",
       "    }\n",
       "\n",
       "    .dataframe thead th {\n",
       "        text-align: right;\n",
       "    }\n",
       "</style>\n",
       "<table border=\"1\" class=\"dataframe\">\n",
       "  <thead>\n",
       "    <tr style=\"text-align: right;\">\n",
       "      <th></th>\n",
       "      <th>Education Level</th>\n",
       "    </tr>\n",
       "  </thead>\n",
       "  <tbody>\n",
       "    <tr>\n",
       "      <th>0</th>\n",
       "      <td>0</td>\n",
       "    </tr>\n",
       "    <tr>\n",
       "      <th>1</th>\n",
       "      <td>1</td>\n",
       "    </tr>\n",
       "    <tr>\n",
       "      <th>2</th>\n",
       "      <td>2</td>\n",
       "    </tr>\n",
       "    <tr>\n",
       "      <th>3</th>\n",
       "      <td>0</td>\n",
       "    </tr>\n",
       "    <tr>\n",
       "      <th>4</th>\n",
       "      <td>1</td>\n",
       "    </tr>\n",
       "  </tbody>\n",
       "</table>\n",
       "</div>"
      ],
      "text/plain": [
       "   Education Level\n",
       "0                0\n",
       "1                1\n",
       "2                2\n",
       "3                0\n",
       "4                1"
      ]
     },
     "execution_count": 43,
     "metadata": {},
     "output_type": "execute_result"
    }
   ],
   "source": [
    "x=df[['Education Level', 'Years of Experience']]\n",
    "x.shape\n",
    "\n",
    "y=df[['Salary']]\n",
    "y=df[['Education Level']]\n",
    "y.head(5)"
   ]
  },
  {
   "cell_type": "markdown",
   "metadata": {},
   "source": [
    "## Train Test Split"
   ]
  },
  {
   "cell_type": "code",
   "execution_count": 21,
   "metadata": {},
   "outputs": [],
   "source": [
    "from sklearn.model_selection import train_test_split\n",
    "x_train,x_test,y_train,y_test = train_test_split(x,y,test_size= 0.2,random_state = 9598)"
   ]
  },
  {
   "cell_type": "markdown",
   "metadata": {},
   "source": [
    "## Standardization"
   ]
  },
  {
   "cell_type": "code",
   "execution_count": 22,
   "metadata": {},
   "outputs": [],
   "source": [
    "from sklearn.preprocessing import StandardScaler\n",
    "scaler = StandardScaler()\n",
    "x_train_scaled = scaler.fit_transform(x_train)\n",
    "x_test_scaled = scaler.transform(x_test)"
   ]
  },
  {
   "cell_type": "code",
   "execution_count": 23,
   "metadata": {},
   "outputs": [
    {
     "data": {
      "text/plain": [
       "array([[-0.74185461, -0.17217337],\n",
       "       [ 0.6398496 , -1.30396011],\n",
       "       [ 2.02155382,  1.18597071],\n",
       "       [-0.74185461, -0.02126848],\n",
       "       [-0.74185461, -0.47398317],\n",
       "       [ 0.6398496 , -0.17217337],\n",
       "       [-0.74185461, -0.17217337],\n",
       "       [-0.74185461, -1.30396011],\n",
       "       [ 2.02155382,  0.88416092],\n",
       "       [-0.74185461, -1.30396011],\n",
       "       [-0.74185461,  1.48778051],\n",
       "       [-0.74185461, -0.32307827],\n",
       "       [ 0.6398496 ,  0.43144622],\n",
       "       [ 0.6398496 ,  1.48778051],\n",
       "       [ 2.02155382,  1.18597071],\n",
       "       [-0.74185461, -1.22850766],\n",
       "       [-0.74185461, -0.77579297],\n",
       "       [-0.74185461,  0.88416092],\n",
       "       [-0.74185461, -1.30396011],\n",
       "       [ 2.02155382,  1.03506581],\n",
       "       [-0.74185461, -1.22850766],\n",
       "       [ 2.02155382,  0.88416092],\n",
       "       [-0.74185461, -0.47398317],\n",
       "       [ 2.02155382,  1.48778051],\n",
       "       [ 2.02155382,  1.18597071],\n",
       "       [-0.74185461,  0.73325602],\n",
       "       [ 0.6398496 , -1.30396011],\n",
       "       [-0.74185461,  0.73325602],\n",
       "       [ 0.6398496 ,  1.63868541],\n",
       "       [ 0.6398496 , -0.62488807],\n",
       "       [-0.74185461,  0.28054132],\n",
       "       [-0.74185461,  1.63868541],\n",
       "       [ 0.6398496 ,  1.63868541],\n",
       "       [-0.74185461,  0.28054132],\n",
       "       [-0.74185461,  0.28054132],\n",
       "       [ 0.6398496 ,  1.33687561],\n",
       "       [ 0.6398496 ,  2.242305  ],\n",
       "       [-0.74185461, -1.07760277],\n",
       "       [ 0.6398496 ,  1.48778051],\n",
       "       [ 0.6398496 ,  1.48778051],\n",
       "       [ 2.02155382,  0.88416092],\n",
       "       [-0.74185461, -1.30396011],\n",
       "       [-0.74185461, -1.07760277],\n",
       "       [ 2.02155382,  1.78959031],\n",
       "       [ 2.02155382,  1.33687561],\n",
       "       [ 0.6398496 , -0.62488807],\n",
       "       [-0.74185461,  1.78959031],\n",
       "       [ 0.6398496 , -0.47398317],\n",
       "       [-0.74185461,  0.28054132],\n",
       "       [-0.74185461,  0.28054132],\n",
       "       [-0.74185461,  1.78959031],\n",
       "       [-0.74185461, -0.17217337],\n",
       "       [-0.74185461, -1.22850766],\n",
       "       [ 0.6398496 ,  0.43144622],\n",
       "       [-0.74185461, -0.32307827],\n",
       "       [ 2.02155382,  2.0914001 ],\n",
       "       [-0.74185461, -0.47398317],\n",
       "       [-0.74185461, -1.37941256],\n",
       "       [-0.74185461,  0.58235112],\n",
       "       [ 2.02155382,  1.48778051],\n",
       "       [-0.74185461, -0.92669787],\n",
       "       [ 2.02155382,  0.73325602],\n",
       "       [ 0.6398496 , -0.32307827],\n",
       "       [-0.74185461, -1.07760277],\n",
       "       [-0.74185461, -1.22850766],\n",
       "       [-0.74185461, -0.92669787],\n",
       "       [-0.74185461, -1.07760277],\n",
       "       [-0.74185461, -0.02126848],\n",
       "       [-0.74185461, -0.92669787],\n",
       "       [-0.74185461, -0.92669787],\n",
       "       [-0.74185461, -0.02126848],\n",
       "       [-0.74185461, -0.77579297],\n",
       "       [ 0.6398496 ,  0.43144622],\n",
       "       [ 0.6398496 , -0.62488807],\n",
       "       [ 0.6398496 ,  1.18597071],\n",
       "       [-0.74185461, -1.07760277],\n",
       "       [-0.74185461, -1.22850766],\n",
       "       [-0.74185461, -1.22850766],\n",
       "       [-0.74185461, -0.47398317],\n",
       "       [-0.74185461,  0.88416092],\n",
       "       [ 2.02155382,  0.88416092],\n",
       "       [-0.74185461,  0.28054132],\n",
       "       [ 2.02155382,  0.88416092],\n",
       "       [-0.74185461, -1.37941256],\n",
       "       [ 0.6398496 ,  1.63868541],\n",
       "       [-0.74185461, -0.32307827],\n",
       "       [-0.74185461, -0.02126848],\n",
       "       [-0.74185461,  0.28054132],\n",
       "       [-0.74185461, -1.37941256],\n",
       "       [ 0.6398496 ,  0.58235112],\n",
       "       [-0.74185461,  0.28054132],\n",
       "       [ 2.02155382,  1.03506581],\n",
       "       [-0.74185461,  1.18597071],\n",
       "       [ 0.6398496 , -0.02126848],\n",
       "       [-0.74185461, -1.07760277],\n",
       "       [ 0.6398496 , -0.62488807],\n",
       "       [-0.74185461, -1.45486501],\n",
       "       [ 0.6398496 ,  0.28054132],\n",
       "       [-0.74185461, -0.02126848],\n",
       "       [ 2.02155382,  0.73325602],\n",
       "       [-0.74185461, -0.17217337],\n",
       "       [ 0.6398496 , -0.17217337],\n",
       "       [ 2.02155382,  1.78959031],\n",
       "       [ 2.02155382,  1.18597071],\n",
       "       [-0.74185461, -1.07760277],\n",
       "       [-0.74185461, -0.62488807],\n",
       "       [ 2.02155382,  0.88416092],\n",
       "       [ 0.6398496 ,  0.73325602],\n",
       "       [ 0.6398496 ,  1.63868541],\n",
       "       [-0.74185461, -1.30396011],\n",
       "       [ 2.02155382,  1.48778051],\n",
       "       [-0.74185461, -0.47398317],\n",
       "       [-0.74185461, -1.37941256],\n",
       "       [-0.74185461, -0.32307827],\n",
       "       [-0.74185461, -1.07760277],\n",
       "       [-0.74185461, -1.22850766],\n",
       "       [-0.74185461, -0.32307827],\n",
       "       [-0.74185461, -0.92669787],\n",
       "       [-0.74185461,  0.28054132],\n",
       "       [-0.74185461, -1.07760277],\n",
       "       [ 0.6398496 ,  1.18597071],\n",
       "       [ 0.6398496 ,  0.43144622],\n",
       "       [-0.74185461, -0.47398317],\n",
       "       [-0.74185461, -1.07760277],\n",
       "       [-0.74185461, -0.92669787],\n",
       "       [ 2.02155382,  0.73325602],\n",
       "       [ 2.02155382,  1.78959031],\n",
       "       [-0.74185461, -0.77579297],\n",
       "       [-0.74185461,  0.12963642],\n",
       "       [-0.74185461, -0.02126848],\n",
       "       [-0.74185461, -0.92669787],\n",
       "       [-0.74185461, -0.02126848],\n",
       "       [ 0.6398496 ,  1.33687561],\n",
       "       [-0.74185461,  1.78959031],\n",
       "       [-0.74185461,  0.28054132],\n",
       "       [ 0.6398496 , -0.77579297],\n",
       "       [-0.74185461, -0.92669787],\n",
       "       [-0.74185461, -0.62488807],\n",
       "       [ 2.02155382,  0.73325602],\n",
       "       [-0.74185461, -1.07760277],\n",
       "       [-0.74185461, -0.77579297],\n",
       "       [-0.74185461, -1.07760277],\n",
       "       [-0.74185461, -0.92669787],\n",
       "       [ 0.6398496 , -1.07760277],\n",
       "       [ 0.6398496 ,  1.63868541],\n",
       "       [-0.74185461, -1.22850766],\n",
       "       [ 0.6398496 ,  0.43144622],\n",
       "       [ 0.6398496 ,  0.88416092],\n",
       "       [ 2.02155382,  1.03506581],\n",
       "       [-0.74185461, -1.22850766],\n",
       "       [ 0.6398496 ,  1.33687561],\n",
       "       [-0.74185461, -1.22850766],\n",
       "       [-0.74185461, -0.17217337],\n",
       "       [ 0.6398496 , -0.02126848],\n",
       "       [-0.74185461, -1.22850766],\n",
       "       [ 0.6398496 ,  1.33687561],\n",
       "       [ 2.02155382,  1.18597071],\n",
       "       [ 0.6398496 , -1.30396011],\n",
       "       [-0.74185461, -1.30396011],\n",
       "       [-0.74185461, -1.22850766],\n",
       "       [-0.74185461, -1.07760277],\n",
       "       [ 0.6398496 ,  0.12963642],\n",
       "       [ 0.6398496 ,  1.18597071],\n",
       "       [ 2.02155382,  0.88416092],\n",
       "       [ 0.6398496 ,  0.58235112],\n",
       "       [-0.74185461, -1.37941256],\n",
       "       [ 0.6398496 , -1.22850766],\n",
       "       [-0.74185461, -0.92669787],\n",
       "       [-0.74185461, -0.02126848],\n",
       "       [ 0.6398496 , -0.62488807],\n",
       "       [ 2.02155382,  0.28054132],\n",
       "       [-0.74185461,  0.12963642],\n",
       "       [ 2.02155382,  0.88416092],\n",
       "       [-0.74185461, -0.32307827],\n",
       "       [ 2.02155382,  0.73325602],\n",
       "       [ 0.6398496 ,  1.33687561],\n",
       "       [-0.74185461, -0.17217337],\n",
       "       [ 2.02155382,  1.63868541],\n",
       "       [ 0.6398496 , -0.32307827],\n",
       "       [-0.74185461, -0.02126848],\n",
       "       [-0.74185461, -0.32307827],\n",
       "       [-0.74185461, -0.32307827],\n",
       "       [-0.74185461,  1.33687561],\n",
       "       [-0.74185461,  0.28054132],\n",
       "       [ 0.6398496 ,  0.58235112],\n",
       "       [-0.74185461, -0.17217337],\n",
       "       [-0.74185461,  1.18597071],\n",
       "       [ 0.6398496 ,  1.33687561],\n",
       "       [ 2.02155382,  0.88416092],\n",
       "       [ 0.6398496 , -1.07760277],\n",
       "       [-0.74185461,  1.48778051],\n",
       "       [-0.74185461, -0.92669787],\n",
       "       [ 0.6398496 , -0.47398317],\n",
       "       [ 0.6398496 ,  1.63868541],\n",
       "       [ 0.6398496 ,  1.48778051],\n",
       "       [-0.74185461, -1.22850766],\n",
       "       [-0.74185461,  0.43144622],\n",
       "       [-0.74185461, -1.53031746],\n",
       "       [-0.74185461, -1.07760277],\n",
       "       [-0.74185461,  0.58235112],\n",
       "       [-0.74185461, -0.02126848],\n",
       "       [-0.74185461,  0.73325602],\n",
       "       [-0.74185461, -0.17217337],\n",
       "       [ 0.6398496 ,  1.63868541],\n",
       "       [-0.74185461,  1.03506581],\n",
       "       [ 0.6398496 ,  1.33687561],\n",
       "       [ 0.6398496 , -0.17217337],\n",
       "       [-0.74185461,  2.242305  ],\n",
       "       [-0.74185461, -0.62488807],\n",
       "       [-0.74185461, -0.77579297],\n",
       "       [-0.74185461, -1.22850766],\n",
       "       [-0.74185461, -0.17217337],\n",
       "       [-0.74185461, -0.32307827],\n",
       "       [-0.74185461, -0.32307827],\n",
       "       [-0.74185461, -1.22850766],\n",
       "       [-0.74185461, -1.07760277],\n",
       "       [ 0.6398496 ,  1.48778051],\n",
       "       [ 2.02155382,  1.78959031],\n",
       "       [-0.74185461, -0.92669787],\n",
       "       [ 2.02155382,  0.73325602],\n",
       "       [-0.74185461, -1.22850766],\n",
       "       [-0.74185461,  0.88416092],\n",
       "       [-0.74185461, -0.77579297],\n",
       "       [-0.74185461, -1.07760277],\n",
       "       [-0.74185461, -1.07760277],\n",
       "       [ 0.6398496 , -1.30396011],\n",
       "       [-0.74185461,  0.12963642],\n",
       "       [-0.74185461, -1.22850766],\n",
       "       [-0.74185461, -1.22850766],\n",
       "       [-0.74185461,  0.12963642],\n",
       "       [-0.74185461, -1.22850766],\n",
       "       [ 0.6398496 ,  2.242305  ],\n",
       "       [-0.74185461, -1.22850766],\n",
       "       [ 0.6398496 , -0.62488807],\n",
       "       [ 0.6398496 ,  1.33687561],\n",
       "       [ 0.6398496 , -0.17217337],\n",
       "       [-0.74185461, -0.17217337],\n",
       "       [-0.74185461, -1.07760277],\n",
       "       [ 0.6398496 ,  1.48778051],\n",
       "       [-0.74185461, -0.32307827],\n",
       "       [ 0.6398496 ,  0.43144622],\n",
       "       [-0.74185461,  0.58235112],\n",
       "       [-0.74185461, -0.17217337],\n",
       "       [-0.74185461, -0.47398317],\n",
       "       [-0.74185461, -0.32307827],\n",
       "       [-0.74185461, -0.32307827],\n",
       "       [-0.74185461, -0.32307827],\n",
       "       [ 0.6398496 ,  0.12963642],\n",
       "       [-0.74185461, -1.22850766],\n",
       "       [-0.74185461, -0.17217337],\n",
       "       [ 0.6398496 ,  1.33687561],\n",
       "       [-0.74185461, -0.92669787],\n",
       "       [-0.74185461, -1.53031746],\n",
       "       [ 2.02155382,  1.63868541],\n",
       "       [-0.74185461, -1.22850766],\n",
       "       [ 0.6398496 ,  1.63868541],\n",
       "       [ 0.6398496 ,  1.33687561],\n",
       "       [-0.74185461, -0.77579297],\n",
       "       [-0.74185461, -1.07760277],\n",
       "       [ 0.6398496 ,  1.18597071],\n",
       "       [ 0.6398496 , -0.62488807],\n",
       "       [-0.74185461,  0.58235112],\n",
       "       [-0.74185461, -1.30396011],\n",
       "       [-0.74185461,  0.43144622],\n",
       "       [-0.74185461, -0.92669787],\n",
       "       [ 0.6398496 , -0.47398317],\n",
       "       [-0.74185461, -0.17217337],\n",
       "       [ 0.6398496 , -1.07760277],\n",
       "       [ 0.6398496 , -0.02126848],\n",
       "       [-0.74185461, -0.92669787],\n",
       "       [ 2.02155382,  1.18597071],\n",
       "       [-0.74185461, -0.47398317],\n",
       "       [-0.74185461, -1.07760277],\n",
       "       [-0.74185461,  1.18597071],\n",
       "       [ 2.02155382,  0.73325602],\n",
       "       [-0.74185461, -0.32307827],\n",
       "       [-0.74185461, -0.32307827],\n",
       "       [-0.74185461, -0.77579297],\n",
       "       [ 0.6398496 , -0.17217337],\n",
       "       [ 0.6398496 ,  0.58235112],\n",
       "       [ 0.6398496 , -0.17217337],\n",
       "       [ 0.6398496 , -0.02126848],\n",
       "       [-0.74185461, -0.77579297],\n",
       "       [-0.74185461, -1.22850766],\n",
       "       [-0.74185461, -1.22850766],\n",
       "       [-0.74185461, -0.77579297],\n",
       "       [ 0.6398496 ,  1.33687561],\n",
       "       [ 2.02155382,  0.73325602],\n",
       "       [-0.74185461, -0.77579297],\n",
       "       [-0.74185461, -1.22850766],\n",
       "       [-0.74185461, -1.37941256],\n",
       "       [ 2.02155382,  0.88416092],\n",
       "       [ 2.02155382,  0.73325602],\n",
       "       [-0.74185461, -0.32307827],\n",
       "       [-0.74185461, -0.47398317],\n",
       "       [-0.74185461,  0.28054132],\n",
       "       [ 0.6398496 ,  0.43144622],\n",
       "       [ 2.02155382,  0.88416092]])"
      ]
     },
     "execution_count": 23,
     "metadata": {},
     "output_type": "execute_result"
    }
   ],
   "source": [
    "x_train_scaled"
   ]
  },
  {
   "cell_type": "markdown",
   "metadata": {},
   "source": [
    "## Model (Linear Regression)"
   ]
  },
  {
   "cell_type": "code",
   "execution_count": 24,
   "metadata": {},
   "outputs": [],
   "source": [
    "from sklearn.linear_model import LinearRegression\n",
    "model = LinearRegression()"
   ]
  },
  {
   "cell_type": "markdown",
   "metadata": {},
   "source": [
    "## Model Training"
   ]
  },
  {
   "cell_type": "code",
   "execution_count": 25,
   "metadata": {},
   "outputs": [
    {
     "data": {
      "text/html": [
       "<style>#sk-container-id-1 {\n",
       "  /* Definition of color scheme common for light and dark mode */\n",
       "  --sklearn-color-text: black;\n",
       "  --sklearn-color-line: gray;\n",
       "  /* Definition of color scheme for unfitted estimators */\n",
       "  --sklearn-color-unfitted-level-0: #fff5e6;\n",
       "  --sklearn-color-unfitted-level-1: #f6e4d2;\n",
       "  --sklearn-color-unfitted-level-2: #ffe0b3;\n",
       "  --sklearn-color-unfitted-level-3: chocolate;\n",
       "  /* Definition of color scheme for fitted estimators */\n",
       "  --sklearn-color-fitted-level-0: #f0f8ff;\n",
       "  --sklearn-color-fitted-level-1: #d4ebff;\n",
       "  --sklearn-color-fitted-level-2: #b3dbfd;\n",
       "  --sklearn-color-fitted-level-3: cornflowerblue;\n",
       "\n",
       "  /* Specific color for light theme */\n",
       "  --sklearn-color-text-on-default-background: var(--sg-text-color, var(--theme-code-foreground, var(--jp-content-font-color1, black)));\n",
       "  --sklearn-color-background: var(--sg-background-color, var(--theme-background, var(--jp-layout-color0, white)));\n",
       "  --sklearn-color-border-box: var(--sg-text-color, var(--theme-code-foreground, var(--jp-content-font-color1, black)));\n",
       "  --sklearn-color-icon: #696969;\n",
       "\n",
       "  @media (prefers-color-scheme: dark) {\n",
       "    /* Redefinition of color scheme for dark theme */\n",
       "    --sklearn-color-text-on-default-background: var(--sg-text-color, var(--theme-code-foreground, var(--jp-content-font-color1, white)));\n",
       "    --sklearn-color-background: var(--sg-background-color, var(--theme-background, var(--jp-layout-color0, #111)));\n",
       "    --sklearn-color-border-box: var(--sg-text-color, var(--theme-code-foreground, var(--jp-content-font-color1, white)));\n",
       "    --sklearn-color-icon: #878787;\n",
       "  }\n",
       "}\n",
       "\n",
       "#sk-container-id-1 {\n",
       "  color: var(--sklearn-color-text);\n",
       "}\n",
       "\n",
       "#sk-container-id-1 pre {\n",
       "  padding: 0;\n",
       "}\n",
       "\n",
       "#sk-container-id-1 input.sk-hidden--visually {\n",
       "  border: 0;\n",
       "  clip: rect(1px 1px 1px 1px);\n",
       "  clip: rect(1px, 1px, 1px, 1px);\n",
       "  height: 1px;\n",
       "  margin: -1px;\n",
       "  overflow: hidden;\n",
       "  padding: 0;\n",
       "  position: absolute;\n",
       "  width: 1px;\n",
       "}\n",
       "\n",
       "#sk-container-id-1 div.sk-dashed-wrapped {\n",
       "  border: 1px dashed var(--sklearn-color-line);\n",
       "  margin: 0 0.4em 0.5em 0.4em;\n",
       "  box-sizing: border-box;\n",
       "  padding-bottom: 0.4em;\n",
       "  background-color: var(--sklearn-color-background);\n",
       "}\n",
       "\n",
       "#sk-container-id-1 div.sk-container {\n",
       "  /* jupyter's `normalize.less` sets `[hidden] { display: none; }`\n",
       "     but bootstrap.min.css set `[hidden] { display: none !important; }`\n",
       "     so we also need the `!important` here to be able to override the\n",
       "     default hidden behavior on the sphinx rendered scikit-learn.org.\n",
       "     See: https://github.com/scikit-learn/scikit-learn/issues/21755 */\n",
       "  display: inline-block !important;\n",
       "  position: relative;\n",
       "}\n",
       "\n",
       "#sk-container-id-1 div.sk-text-repr-fallback {\n",
       "  display: none;\n",
       "}\n",
       "\n",
       "div.sk-parallel-item,\n",
       "div.sk-serial,\n",
       "div.sk-item {\n",
       "  /* draw centered vertical line to link estimators */\n",
       "  background-image: linear-gradient(var(--sklearn-color-text-on-default-background), var(--sklearn-color-text-on-default-background));\n",
       "  background-size: 2px 100%;\n",
       "  background-repeat: no-repeat;\n",
       "  background-position: center center;\n",
       "}\n",
       "\n",
       "/* Parallel-specific style estimator block */\n",
       "\n",
       "#sk-container-id-1 div.sk-parallel-item::after {\n",
       "  content: \"\";\n",
       "  width: 100%;\n",
       "  border-bottom: 2px solid var(--sklearn-color-text-on-default-background);\n",
       "  flex-grow: 1;\n",
       "}\n",
       "\n",
       "#sk-container-id-1 div.sk-parallel {\n",
       "  display: flex;\n",
       "  align-items: stretch;\n",
       "  justify-content: center;\n",
       "  background-color: var(--sklearn-color-background);\n",
       "  position: relative;\n",
       "}\n",
       "\n",
       "#sk-container-id-1 div.sk-parallel-item {\n",
       "  display: flex;\n",
       "  flex-direction: column;\n",
       "}\n",
       "\n",
       "#sk-container-id-1 div.sk-parallel-item:first-child::after {\n",
       "  align-self: flex-end;\n",
       "  width: 50%;\n",
       "}\n",
       "\n",
       "#sk-container-id-1 div.sk-parallel-item:last-child::after {\n",
       "  align-self: flex-start;\n",
       "  width: 50%;\n",
       "}\n",
       "\n",
       "#sk-container-id-1 div.sk-parallel-item:only-child::after {\n",
       "  width: 0;\n",
       "}\n",
       "\n",
       "/* Serial-specific style estimator block */\n",
       "\n",
       "#sk-container-id-1 div.sk-serial {\n",
       "  display: flex;\n",
       "  flex-direction: column;\n",
       "  align-items: center;\n",
       "  background-color: var(--sklearn-color-background);\n",
       "  padding-right: 1em;\n",
       "  padding-left: 1em;\n",
       "}\n",
       "\n",
       "\n",
       "/* Toggleable style: style used for estimator/Pipeline/ColumnTransformer box that is\n",
       "clickable and can be expanded/collapsed.\n",
       "- Pipeline and ColumnTransformer use this feature and define the default style\n",
       "- Estimators will overwrite some part of the style using the `sk-estimator` class\n",
       "*/\n",
       "\n",
       "/* Pipeline and ColumnTransformer style (default) */\n",
       "\n",
       "#sk-container-id-1 div.sk-toggleable {\n",
       "  /* Default theme specific background. It is overwritten whether we have a\n",
       "  specific estimator or a Pipeline/ColumnTransformer */\n",
       "  background-color: var(--sklearn-color-background);\n",
       "}\n",
       "\n",
       "/* Toggleable label */\n",
       "#sk-container-id-1 label.sk-toggleable__label {\n",
       "  cursor: pointer;\n",
       "  display: block;\n",
       "  width: 100%;\n",
       "  margin-bottom: 0;\n",
       "  padding: 0.5em;\n",
       "  box-sizing: border-box;\n",
       "  text-align: center;\n",
       "}\n",
       "\n",
       "#sk-container-id-1 label.sk-toggleable__label-arrow:before {\n",
       "  /* Arrow on the left of the label */\n",
       "  content: \"▸\";\n",
       "  float: left;\n",
       "  margin-right: 0.25em;\n",
       "  color: var(--sklearn-color-icon);\n",
       "}\n",
       "\n",
       "#sk-container-id-1 label.sk-toggleable__label-arrow:hover:before {\n",
       "  color: var(--sklearn-color-text);\n",
       "}\n",
       "\n",
       "/* Toggleable content - dropdown */\n",
       "\n",
       "#sk-container-id-1 div.sk-toggleable__content {\n",
       "  max-height: 0;\n",
       "  max-width: 0;\n",
       "  overflow: hidden;\n",
       "  text-align: left;\n",
       "  /* unfitted */\n",
       "  background-color: var(--sklearn-color-unfitted-level-0);\n",
       "}\n",
       "\n",
       "#sk-container-id-1 div.sk-toggleable__content.fitted {\n",
       "  /* fitted */\n",
       "  background-color: var(--sklearn-color-fitted-level-0);\n",
       "}\n",
       "\n",
       "#sk-container-id-1 div.sk-toggleable__content pre {\n",
       "  margin: 0.2em;\n",
       "  border-radius: 0.25em;\n",
       "  color: var(--sklearn-color-text);\n",
       "  /* unfitted */\n",
       "  background-color: var(--sklearn-color-unfitted-level-0);\n",
       "}\n",
       "\n",
       "#sk-container-id-1 div.sk-toggleable__content.fitted pre {\n",
       "  /* unfitted */\n",
       "  background-color: var(--sklearn-color-fitted-level-0);\n",
       "}\n",
       "\n",
       "#sk-container-id-1 input.sk-toggleable__control:checked~div.sk-toggleable__content {\n",
       "  /* Expand drop-down */\n",
       "  max-height: 200px;\n",
       "  max-width: 100%;\n",
       "  overflow: auto;\n",
       "}\n",
       "\n",
       "#sk-container-id-1 input.sk-toggleable__control:checked~label.sk-toggleable__label-arrow:before {\n",
       "  content: \"▾\";\n",
       "}\n",
       "\n",
       "/* Pipeline/ColumnTransformer-specific style */\n",
       "\n",
       "#sk-container-id-1 div.sk-label input.sk-toggleable__control:checked~label.sk-toggleable__label {\n",
       "  color: var(--sklearn-color-text);\n",
       "  background-color: var(--sklearn-color-unfitted-level-2);\n",
       "}\n",
       "\n",
       "#sk-container-id-1 div.sk-label.fitted input.sk-toggleable__control:checked~label.sk-toggleable__label {\n",
       "  background-color: var(--sklearn-color-fitted-level-2);\n",
       "}\n",
       "\n",
       "/* Estimator-specific style */\n",
       "\n",
       "/* Colorize estimator box */\n",
       "#sk-container-id-1 div.sk-estimator input.sk-toggleable__control:checked~label.sk-toggleable__label {\n",
       "  /* unfitted */\n",
       "  background-color: var(--sklearn-color-unfitted-level-2);\n",
       "}\n",
       "\n",
       "#sk-container-id-1 div.sk-estimator.fitted input.sk-toggleable__control:checked~label.sk-toggleable__label {\n",
       "  /* fitted */\n",
       "  background-color: var(--sklearn-color-fitted-level-2);\n",
       "}\n",
       "\n",
       "#sk-container-id-1 div.sk-label label.sk-toggleable__label,\n",
       "#sk-container-id-1 div.sk-label label {\n",
       "  /* The background is the default theme color */\n",
       "  color: var(--sklearn-color-text-on-default-background);\n",
       "}\n",
       "\n",
       "/* On hover, darken the color of the background */\n",
       "#sk-container-id-1 div.sk-label:hover label.sk-toggleable__label {\n",
       "  color: var(--sklearn-color-text);\n",
       "  background-color: var(--sklearn-color-unfitted-level-2);\n",
       "}\n",
       "\n",
       "/* Label box, darken color on hover, fitted */\n",
       "#sk-container-id-1 div.sk-label.fitted:hover label.sk-toggleable__label.fitted {\n",
       "  color: var(--sklearn-color-text);\n",
       "  background-color: var(--sklearn-color-fitted-level-2);\n",
       "}\n",
       "\n",
       "/* Estimator label */\n",
       "\n",
       "#sk-container-id-1 div.sk-label label {\n",
       "  font-family: monospace;\n",
       "  font-weight: bold;\n",
       "  display: inline-block;\n",
       "  line-height: 1.2em;\n",
       "}\n",
       "\n",
       "#sk-container-id-1 div.sk-label-container {\n",
       "  text-align: center;\n",
       "}\n",
       "\n",
       "/* Estimator-specific */\n",
       "#sk-container-id-1 div.sk-estimator {\n",
       "  font-family: monospace;\n",
       "  border: 1px dotted var(--sklearn-color-border-box);\n",
       "  border-radius: 0.25em;\n",
       "  box-sizing: border-box;\n",
       "  margin-bottom: 0.5em;\n",
       "  /* unfitted */\n",
       "  background-color: var(--sklearn-color-unfitted-level-0);\n",
       "}\n",
       "\n",
       "#sk-container-id-1 div.sk-estimator.fitted {\n",
       "  /* fitted */\n",
       "  background-color: var(--sklearn-color-fitted-level-0);\n",
       "}\n",
       "\n",
       "/* on hover */\n",
       "#sk-container-id-1 div.sk-estimator:hover {\n",
       "  /* unfitted */\n",
       "  background-color: var(--sklearn-color-unfitted-level-2);\n",
       "}\n",
       "\n",
       "#sk-container-id-1 div.sk-estimator.fitted:hover {\n",
       "  /* fitted */\n",
       "  background-color: var(--sklearn-color-fitted-level-2);\n",
       "}\n",
       "\n",
       "/* Specification for estimator info (e.g. \"i\" and \"?\") */\n",
       "\n",
       "/* Common style for \"i\" and \"?\" */\n",
       "\n",
       ".sk-estimator-doc-link,\n",
       "a:link.sk-estimator-doc-link,\n",
       "a:visited.sk-estimator-doc-link {\n",
       "  float: right;\n",
       "  font-size: smaller;\n",
       "  line-height: 1em;\n",
       "  font-family: monospace;\n",
       "  background-color: var(--sklearn-color-background);\n",
       "  border-radius: 1em;\n",
       "  height: 1em;\n",
       "  width: 1em;\n",
       "  text-decoration: none !important;\n",
       "  margin-left: 1ex;\n",
       "  /* unfitted */\n",
       "  border: var(--sklearn-color-unfitted-level-1) 1pt solid;\n",
       "  color: var(--sklearn-color-unfitted-level-1);\n",
       "}\n",
       "\n",
       ".sk-estimator-doc-link.fitted,\n",
       "a:link.sk-estimator-doc-link.fitted,\n",
       "a:visited.sk-estimator-doc-link.fitted {\n",
       "  /* fitted */\n",
       "  border: var(--sklearn-color-fitted-level-1) 1pt solid;\n",
       "  color: var(--sklearn-color-fitted-level-1);\n",
       "}\n",
       "\n",
       "/* On hover */\n",
       "div.sk-estimator:hover .sk-estimator-doc-link:hover,\n",
       ".sk-estimator-doc-link:hover,\n",
       "div.sk-label-container:hover .sk-estimator-doc-link:hover,\n",
       ".sk-estimator-doc-link:hover {\n",
       "  /* unfitted */\n",
       "  background-color: var(--sklearn-color-unfitted-level-3);\n",
       "  color: var(--sklearn-color-background);\n",
       "  text-decoration: none;\n",
       "}\n",
       "\n",
       "div.sk-estimator.fitted:hover .sk-estimator-doc-link.fitted:hover,\n",
       ".sk-estimator-doc-link.fitted:hover,\n",
       "div.sk-label-container:hover .sk-estimator-doc-link.fitted:hover,\n",
       ".sk-estimator-doc-link.fitted:hover {\n",
       "  /* fitted */\n",
       "  background-color: var(--sklearn-color-fitted-level-3);\n",
       "  color: var(--sklearn-color-background);\n",
       "  text-decoration: none;\n",
       "}\n",
       "\n",
       "/* Span, style for the box shown on hovering the info icon */\n",
       ".sk-estimator-doc-link span {\n",
       "  display: none;\n",
       "  z-index: 9999;\n",
       "  position: relative;\n",
       "  font-weight: normal;\n",
       "  right: .2ex;\n",
       "  padding: .5ex;\n",
       "  margin: .5ex;\n",
       "  width: min-content;\n",
       "  min-width: 20ex;\n",
       "  max-width: 50ex;\n",
       "  color: var(--sklearn-color-text);\n",
       "  box-shadow: 2pt 2pt 4pt #999;\n",
       "  /* unfitted */\n",
       "  background: var(--sklearn-color-unfitted-level-0);\n",
       "  border: .5pt solid var(--sklearn-color-unfitted-level-3);\n",
       "}\n",
       "\n",
       ".sk-estimator-doc-link.fitted span {\n",
       "  /* fitted */\n",
       "  background: var(--sklearn-color-fitted-level-0);\n",
       "  border: var(--sklearn-color-fitted-level-3);\n",
       "}\n",
       "\n",
       ".sk-estimator-doc-link:hover span {\n",
       "  display: block;\n",
       "}\n",
       "\n",
       "/* \"?\"-specific style due to the `<a>` HTML tag */\n",
       "\n",
       "#sk-container-id-1 a.estimator_doc_link {\n",
       "  float: right;\n",
       "  font-size: 1rem;\n",
       "  line-height: 1em;\n",
       "  font-family: monospace;\n",
       "  background-color: var(--sklearn-color-background);\n",
       "  border-radius: 1rem;\n",
       "  height: 1rem;\n",
       "  width: 1rem;\n",
       "  text-decoration: none;\n",
       "  /* unfitted */\n",
       "  color: var(--sklearn-color-unfitted-level-1);\n",
       "  border: var(--sklearn-color-unfitted-level-1) 1pt solid;\n",
       "}\n",
       "\n",
       "#sk-container-id-1 a.estimator_doc_link.fitted {\n",
       "  /* fitted */\n",
       "  border: var(--sklearn-color-fitted-level-1) 1pt solid;\n",
       "  color: var(--sklearn-color-fitted-level-1);\n",
       "}\n",
       "\n",
       "/* On hover */\n",
       "#sk-container-id-1 a.estimator_doc_link:hover {\n",
       "  /* unfitted */\n",
       "  background-color: var(--sklearn-color-unfitted-level-3);\n",
       "  color: var(--sklearn-color-background);\n",
       "  text-decoration: none;\n",
       "}\n",
       "\n",
       "#sk-container-id-1 a.estimator_doc_link.fitted:hover {\n",
       "  /* fitted */\n",
       "  background-color: var(--sklearn-color-fitted-level-3);\n",
       "}\n",
       "</style><div id=\"sk-container-id-1\" class=\"sk-top-container\"><div class=\"sk-text-repr-fallback\"><pre>LinearRegression()</pre><b>In a Jupyter environment, please rerun this cell to show the HTML representation or trust the notebook. <br />On GitHub, the HTML representation is unable to render, please try loading this page with nbviewer.org.</b></div><div class=\"sk-container\" hidden><div class=\"sk-item\"><div class=\"sk-estimator fitted sk-toggleable\"><input class=\"sk-toggleable__control sk-hidden--visually\" id=\"sk-estimator-id-1\" type=\"checkbox\" checked><label for=\"sk-estimator-id-1\" class=\"sk-toggleable__label fitted sk-toggleable__label-arrow fitted\">&nbsp;&nbsp;LinearRegression<a class=\"sk-estimator-doc-link fitted\" rel=\"noreferrer\" target=\"_blank\" href=\"https://scikit-learn.org/1.5/modules/generated/sklearn.linear_model.LinearRegression.html\">?<span>Documentation for LinearRegression</span></a><span class=\"sk-estimator-doc-link fitted\">i<span>Fitted</span></span></label><div class=\"sk-toggleable__content fitted\"><pre>LinearRegression()</pre></div> </div></div></div></div>"
      ],
      "text/plain": [
       "LinearRegression()"
      ]
     },
     "execution_count": 25,
     "metadata": {},
     "output_type": "execute_result"
    }
   ],
   "source": [
    "model.fit(x_train_scaled,y_train)"
   ]
  },
  {
   "cell_type": "markdown",
   "metadata": {},
   "source": [
    "## Model Testing"
   ]
  },
  {
   "cell_type": "code",
   "execution_count": 26,
   "metadata": {},
   "outputs": [
    {
     "data": {
      "text/plain": [
       "array([[130293.72312675],\n",
       "       [183733.0198562 ],\n",
       "       [ 69249.9165435 ],\n",
       "       [ 45499.11799708],\n",
       "       [116751.51363635],\n",
       "       [ 94667.52530712],\n",
       "       [137898.23298055],\n",
       "       [ 57374.51727029],\n",
       "       [142169.12239996],\n",
       "       [ 57374.51727029],\n",
       "       [ 51436.81763369],\n",
       "       [ 75187.61618011],\n",
       "       [100605.22494372],\n",
       "       [ 93000.71508993],\n",
       "       [126022.83370734],\n",
       "       [191337.52971   ],\n",
       "       [ 63312.2169069 ],\n",
       "       [ 45499.11799708],\n",
       "       [159982.22130978],\n",
       "       [ 33623.71872387],\n",
       "       [ 45499.11799708],\n",
       "       [ 76854.4263973 ],\n",
       "       [ 45499.11799708],\n",
       "       [ 81125.31581672],\n",
       "       [149773.63225376],\n",
       "       [ 93000.71508993],\n",
       "       [149773.63225376],\n",
       "       [ 63312.2169069 ],\n",
       "       [ 93000.71508993],\n",
       "       [ 82792.12603391],\n",
       "       [ 63312.2169069 ],\n",
       "       [ 88729.82567051],\n",
       "       [ 57374.51727029],\n",
       "       [ 39561.41836048],\n",
       "       [ 51436.81763369],\n",
       "       [ 51436.81763369],\n",
       "       [155711.33189036],\n",
       "       [ 75187.61618011],\n",
       "       [ 81125.31581672],\n",
       "       [ 81125.31581672],\n",
       "       [ 75187.61618011],\n",
       "       [ 63312.2169069 ],\n",
       "       [ 75187.61618011],\n",
       "       [126022.83370734],\n",
       "       [165919.92094638],\n",
       "       [ 45499.11799708],\n",
       "       [100605.22494372],\n",
       "       [ 75187.61618011],\n",
       "       [ 51436.81763369],\n",
       "       [ 51436.81763369],\n",
       "       [ 98938.41472653],\n",
       "       [ 81125.31581672],\n",
       "       [142169.12239996],\n",
       "       [130293.72312675],\n",
       "       [ 57374.51727029],\n",
       "       [171857.62058299],\n",
       "       [ 42530.26817878],\n",
       "       [171857.62058299],\n",
       "       [118418.32385354],\n",
       "       [120085.13407073],\n",
       "       [164253.11072919],\n",
       "       [136231.42276336],\n",
       "       [ 51436.81763369],\n",
       "       [116751.51363635],\n",
       "       [116751.51363635],\n",
       "       [ 81125.31581672],\n",
       "       [161649.03152697],\n",
       "       [197275.2293466 ],\n",
       "       [ 98938.41472653],\n",
       "       [124356.02349015],\n",
       "       [ 87063.01545332],\n",
       "       [ 51436.81763369],\n",
       "       [ 57374.51727029],\n",
       "       [165919.92094638],\n",
       "       [159982.22130978]])"
      ]
     },
     "execution_count": 26,
     "metadata": {},
     "output_type": "execute_result"
    }
   ],
   "source": [
    "y_pred = model.predict(x_test_scaled)\n",
    "y_pred"
   ]
  },
  {
   "cell_type": "markdown",
   "metadata": {},
   "source": [
    "## Calculate Accuracy"
   ]
  },
  {
   "cell_type": "code",
   "execution_count": 27,
   "metadata": {},
   "outputs": [],
   "source": [
    "from sklearn.metrics import mean_absolute_error, mean_absolute_percentage_error,mean_squared_error"
   ]
  },
  {
   "cell_type": "code",
   "execution_count": 28,
   "metadata": {},
   "outputs": [
    {
     "data": {
      "text/plain": [
       "np.float64(9859.883754159075)"
      ]
     },
     "execution_count": 28,
     "metadata": {},
     "output_type": "execute_result"
    }
   ],
   "source": [
    "# to print the mean absolute error\n",
    "mean_absolute_error(y_test,y_pred)"
   ]
  },
  {
   "cell_type": "code",
   "execution_count": 29,
   "metadata": {},
   "outputs": [],
   "source": [
    "# to print the mean absolute percentage\n",
    "per_e = mean_absolute_percentage_error(y_test,y_pred)"
   ]
  },
  {
   "cell_type": "code",
   "execution_count": 30,
   "metadata": {},
   "outputs": [
    {
     "data": {
      "text/plain": [
       "np.float64(89.03625065481657)"
      ]
     },
     "execution_count": 30,
     "metadata": {},
     "output_type": "execute_result"
    }
   ],
   "source": [
    "# to print the accuracy in percentage\n",
    "acc1 = (1-per_e)*100\n",
    "acc1"
   ]
  },
  {
   "cell_type": "markdown",
   "metadata": {},
   "source": [
    "## Model(Decision Tree)"
   ]
  },
  {
   "cell_type": "code",
   "execution_count": 31,
   "metadata": {},
   "outputs": [
    {
     "data": {
      "text/plain": [
       "np.float64(89.18331140155195)"
      ]
     },
     "execution_count": 31,
     "metadata": {},
     "output_type": "execute_result"
    }
   ],
   "source": [
    "# DecisionTree Regressor\n",
    "\n",
    "from sklearn.tree import DecisionTreeRegressor\n",
    "model2 = DecisionTreeRegressor()\n",
    "model2.fit(x_train_scaled,y_train)\n",
    "y_pred2 = model2.predict(x_test_scaled)\n",
    "error2 = mean_absolute_percentage_error(y_test,y_pred2)\n",
    "acc2 = (1-error2)*100\n",
    "acc2"
   ]
  },
  {
   "cell_type": "markdown",
   "metadata": {},
   "source": [
    "## Pickle the model"
   ]
  },
  {
   "cell_type": "code",
   "execution_count": 32,
   "metadata": {},
   "outputs": [],
   "source": [
    "import pickle\n",
    "pickle.dump(scaler,open('model/scaler.pkl','wb')) #for standardization\n",
    "pickle.dump(model,open('model/regression.pkl','wb')) #for model "
   ]
  },
  {
   "cell_type": "markdown",
   "metadata": {},
   "source": [
    "## Load pickle file"
   ]
  },
  {
   "cell_type": "code",
   "execution_count": 33,
   "metadata": {},
   "outputs": [],
   "source": [
    "my_scaler = pickle.load(open('model/scaler.pkl','rb'))\n"
   ]
  },
  {
   "cell_type": "code",
   "execution_count": 34,
   "metadata": {},
   "outputs": [
    {
     "data": {
      "text/plain": [
       "array([[130293.72312675],\n",
       "       [183733.0198562 ],\n",
       "       [ 69249.9165435 ],\n",
       "       [ 45499.11799708],\n",
       "       [116751.51363635],\n",
       "       [ 94667.52530712],\n",
       "       [137898.23298055],\n",
       "       [ 57374.51727029],\n",
       "       [142169.12239996],\n",
       "       [ 57374.51727029],\n",
       "       [ 51436.81763369],\n",
       "       [ 75187.61618011],\n",
       "       [100605.22494372],\n",
       "       [ 93000.71508993],\n",
       "       [126022.83370734],\n",
       "       [191337.52971   ],\n",
       "       [ 63312.2169069 ],\n",
       "       [ 45499.11799708],\n",
       "       [159982.22130978],\n",
       "       [ 33623.71872387],\n",
       "       [ 45499.11799708],\n",
       "       [ 76854.4263973 ],\n",
       "       [ 45499.11799708],\n",
       "       [ 81125.31581672],\n",
       "       [149773.63225376],\n",
       "       [ 93000.71508993],\n",
       "       [149773.63225376],\n",
       "       [ 63312.2169069 ],\n",
       "       [ 93000.71508993],\n",
       "       [ 82792.12603391],\n",
       "       [ 63312.2169069 ],\n",
       "       [ 88729.82567051],\n",
       "       [ 57374.51727029],\n",
       "       [ 39561.41836048],\n",
       "       [ 51436.81763369],\n",
       "       [ 51436.81763369],\n",
       "       [155711.33189036],\n",
       "       [ 75187.61618011],\n",
       "       [ 81125.31581672],\n",
       "       [ 81125.31581672],\n",
       "       [ 75187.61618011],\n",
       "       [ 63312.2169069 ],\n",
       "       [ 75187.61618011],\n",
       "       [126022.83370734],\n",
       "       [165919.92094638],\n",
       "       [ 45499.11799708],\n",
       "       [100605.22494372],\n",
       "       [ 75187.61618011],\n",
       "       [ 51436.81763369],\n",
       "       [ 51436.81763369],\n",
       "       [ 98938.41472653],\n",
       "       [ 81125.31581672],\n",
       "       [142169.12239996],\n",
       "       [130293.72312675],\n",
       "       [ 57374.51727029],\n",
       "       [171857.62058299],\n",
       "       [ 42530.26817878],\n",
       "       [171857.62058299],\n",
       "       [118418.32385354],\n",
       "       [120085.13407073],\n",
       "       [164253.11072919],\n",
       "       [136231.42276336],\n",
       "       [ 51436.81763369],\n",
       "       [116751.51363635],\n",
       "       [116751.51363635],\n",
       "       [ 81125.31581672],\n",
       "       [161649.03152697],\n",
       "       [197275.2293466 ],\n",
       "       [ 98938.41472653],\n",
       "       [124356.02349015],\n",
       "       [ 87063.01545332],\n",
       "       [ 51436.81763369],\n",
       "       [ 57374.51727029],\n",
       "       [165919.92094638],\n",
       "       [159982.22130978]])"
      ]
     },
     "execution_count": 34,
     "metadata": {},
     "output_type": "execute_result"
    }
   ],
   "source": [
    "my_regression = pickle.load(open('model/regression.pkl','rb'))\n",
    "my_regression.predict(my_scaler.transform(x_test))\n",
    "my_regression.predict(x_test_scaled)"
   ]
  },
  {
   "cell_type": "code",
   "execution_count": 40,
   "metadata": {},
   "outputs": [],
   "source": [
    "input_data = np.array([[1, 10.0]]) \n",
    "my_regression.predict(input_data);\n",
    "\n",
    "\n"
   ]
  }
 ],
 "metadata": {
  "kernelspec": {
   "display_name": "Python 3",
   "language": "python",
   "name": "python3"
  },
  "language_info": {
   "codemirror_mode": {
    "name": "ipython",
    "version": 3
   },
   "file_extension": ".py",
   "mimetype": "text/x-python",
   "name": "python",
   "nbconvert_exporter": "python",
   "pygments_lexer": "ipython3",
   "version": "3.11.9"
  }
 },
 "nbformat": 4,
 "nbformat_minor": 2
}
